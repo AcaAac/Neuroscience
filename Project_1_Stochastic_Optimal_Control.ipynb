{
 "cells": [
  {
   "cell_type": "code",
   "execution_count": 3,
   "id": "4b9360c5",
   "metadata": {},
   "outputs": [],
   "source": [
    "import matplotlib\n",
    "import scipy.io\n",
    "import numpy as np\n",
    "import random\n",
    "from matplotlib import pyplot as plt\n",
    "import pickle\n",
    "from sklearn.linear_model import LinearRegression"
   ]
  },
  {
   "cell_type": "code",
   "execution_count": 4,
   "id": "531d0a26",
   "metadata": {},
   "outputs": [],
   "source": [
    "# Known data\n",
    "G = 0.14 # Nms\n",
    "I = 0.15 # kgm^2\n",
    "tau = 60 # ms\n",
    "# geometry\n",
    "l_forearm = 33 # cm - wrist-elbow\n",
    "l_arm = 30 # cm - elbow-shoulder\n",
    "# targets\n",
    "r = 18 # cm\n",
    "t = 0.6 # s - time reaching movement\n"
   ]
  },
  {
   "cell_type": "code",
   "execution_count": 30,
   "id": "6e5ea147",
   "metadata": {},
   "outputs": [
    {
     "name": "stdout",
     "output_type": "stream",
     "text": [
      "linear velocity :  30.0\n",
      "angular velocity :  0.9090909090909091\n",
      "state vector :  \n",
      " [[45.        ]\n",
      " [ 0.90909091]\n",
      " [ 0.5       ]]\n",
      "input :  1.0\n"
     ]
    }
   ],
   "source": [
    "# x[k+1] = A*x[k] + B*u[k]\n",
    "\n",
    "# choose data for the state\n",
    "theta = 45 # degrees (pi/4)\n",
    "vel = r/t # cm/s\n",
    "theta_dot = vel/l_forearm # rad/s\n",
    "T = 0.5 # Ncm - random value\n",
    "print(\"linear velocity : \", vel)\n",
    "print(\"angular velocity : \", theta_dot)\n",
    "\n",
    "# state vector x \n",
    "x = np.array((theta, theta_dot, T)).reshape(3,1)\n",
    "print(\"state vector : \",\"\\n\", x)\n",
    "\n",
    "# inputs u\n",
    "u = 1\n",
    "u = np.heaviside(u,1)\n",
    "print(\"input : \", u)"
   ]
  },
  {
   "cell_type": "code",
   "execution_count": 31,
   "id": "48c54ff4",
   "metadata": {},
   "outputs": [
    {
     "name": "stdout",
     "output_type": "stream",
     "text": [
      "A matrix :  \n",
      " [[ 0.          1.          0.        ]\n",
      " [ 0.         -0.93333333  6.66666667]\n",
      " [ 0.          0.         -0.01666667]]\n"
     ]
    }
   ],
   "source": [
    "A = np.array([0,1,0,0,(-G/I),1/I,0,0,(-1/tau)]).reshape((3,3))\n",
    "print(\"A matrix : \",\"\\n\",A)"
   ]
  },
  {
   "cell_type": "code",
   "execution_count": 32,
   "id": "4a311812",
   "metadata": {},
   "outputs": [
    {
     "name": "stdout",
     "output_type": "stream",
     "text": [
      "B matrix :  \n",
      " [[0.        ]\n",
      " [0.        ]\n",
      " [0.01666667]]\n"
     ]
    }
   ],
   "source": [
    "B = np.array([0,0,(1/tau)]).reshape((3,1))\n",
    "print(\"B matrix : \",\"\\n\", B)"
   ]
  },
  {
   "cell_type": "code",
   "execution_count": 33,
   "id": "8174fd0e",
   "metadata": {},
   "outputs": [
    {
     "name": "stdout",
     "output_type": "stream",
     "text": [
      "angular velocity :  [0.90909091]  corresponds to the initial computed value\n",
      "angular acceleration :  [2.48484848]\n",
      "torque derivative :  [0.00833333]\n"
     ]
    }
   ],
   "source": [
    "# model implementation for single joint case and single reaching movement\n",
    "# x[k+1] = A*x[k] + B*u[k]\n",
    "\n",
    "y = np.matmul(A,x) + B*u\n",
    "print(\"angular velocity : \", y[0], \" corresponds to the initial computed value\")\n",
    "print(\"angular acceleration : \", y[1])\n",
    "print(\"torque derivative : \", y[2])"
   ]
  },
  {
   "cell_type": "code",
   "execution_count": null,
   "id": "a73781a2",
   "metadata": {},
   "outputs": [],
   "source": []
  }
 ],
 "metadata": {
  "kernelspec": {
   "display_name": "Python 3 (ipykernel)",
   "language": "python",
   "name": "python3"
  },
  "language_info": {
   "codemirror_mode": {
    "name": "ipython",
    "version": 3
   },
   "file_extension": ".py",
   "mimetype": "text/x-python",
   "name": "python",
   "nbconvert_exporter": "python",
   "pygments_lexer": "ipython3",
   "version": "3.11.5"
  }
 },
 "nbformat": 4,
 "nbformat_minor": 5
}
