{
 "cells": [
  {
   "cell_type": "code",
   "execution_count": 2,
   "id": "4b9360c5",
   "metadata": {},
   "outputs": [],
   "source": [
    "import matplotlib\n",
    "import scipy.io\n",
    "import numpy as np\n",
    "import random\n",
    "from matplotlib import pyplot as plt\n",
    "import pickle\n",
    "from sklearn.linear_model import LinearRegression"
   ]
  },
  {
   "cell_type": "code",
   "execution_count": null,
   "id": "6e5ea147",
   "metadata": {},
   "outputs": [],
   "source": [
    "# x[k+1] = A*x[k] + B*u[k]\n",
    "\n",
    "\n",
    "\n",
    "# state vector x \n",
    "x = np.transpose[theta, theta_dot, T]\n",
    "\n",
    "# inputs u\n",
    "np.heaviside(u,1)\n",
    "\n",
    "# A\n",
    "G = 0.14 # Nms\n",
    "I = 0.15 # kgm^2\n",
    "tau = 60 # ms\n",
    "\n",
    "A = np.array(0,1,0,0,(-G/I),1/I,0,0,(-1/tau)).reshape((3,3))\n",
    "\n"
   ]
  },
  {
   "cell_type": "code",
   "execution_count": 5,
   "id": "48c54ff4",
   "metadata": {},
   "outputs": [
    {
     "name": "stdout",
     "output_type": "stream",
     "text": [
      "[[ 0.          1.          0.        ]\n",
      " [ 0.         -0.93333333  6.66666667]\n",
      " [ 0.          0.         -0.01666667]]\n"
     ]
    }
   ],
   "source": [
    "# A\n",
    "G = 0.14 # Nms\n",
    "I = 0.15 # kgm^2\n",
    "tau = 60 # ms\n",
    "\n",
    "A = np.array([0,1,0,0,(-G/I),1/I,0,0,(-1/tau)]).reshape((3,3))\n",
    "\n",
    "print(A)"
   ]
  },
  {
   "cell_type": "code",
   "execution_count": 7,
   "id": "4a311812",
   "metadata": {},
   "outputs": [
    {
     "name": "stdout",
     "output_type": "stream",
     "text": [
      "[[0.        ]\n",
      " [0.        ]\n",
      " [0.01666667]]\n"
     ]
    }
   ],
   "source": [
    "# B\n",
    "B = np.array([0,0,(1/tau)]).reshape((3,1))\n",
    "print(B)"
   ]
  },
  {
   "cell_type": "code",
   "execution_count": null,
   "id": "8174fd0e",
   "metadata": {},
   "outputs": [],
   "source": []
  },
  {
   "cell_type": "code",
   "execution_count": null,
   "id": "a73781a2",
   "metadata": {},
   "outputs": [],
   "source": []
  }
 ],
 "metadata": {
  "kernelspec": {
   "display_name": "Python 3 (ipykernel)",
   "language": "python",
   "name": "python3"
  },
  "language_info": {
   "codemirror_mode": {
    "name": "ipython",
    "version": 3
   },
   "file_extension": ".py",
   "mimetype": "text/x-python",
   "name": "python",
   "nbconvert_exporter": "python",
   "pygments_lexer": "ipython3",
   "version": "3.11.5"
  }
 },
 "nbformat": 4,
 "nbformat_minor": 5
}
