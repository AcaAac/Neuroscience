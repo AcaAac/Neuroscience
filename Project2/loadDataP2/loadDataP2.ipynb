{
 "cells": [
  {
   "cell_type": "code",
   "execution_count": 1,
   "metadata": {},
   "outputs": [],
   "source": [
    "import numpy as np\n",
    "import scipy.io as spio\n",
    "import csv\n",
    "import numpy as np\n",
    "import matplotlib.pyplot as plt"
   ]
  },
  {
   "cell_type": "code",
   "execution_count": 2,
   "metadata": {},
   "outputs": [],
   "source": [
    "def loadMuscle():\n",
    "    \"\"\"\n",
    "    Loading the different files and storing them in a dictionnary\n",
    "    \"\"\"\n",
    "    \n",
    "    \n",
    "    HandX = spio.loadmat(\"dataMuscle/HandX.mat\")\n",
    "    HandXVel = spio.loadmat(\"dataMuscle/HandXVel.mat\")\n",
    "    HandXForce = spio.loadmat(\"dataMuscle/HandXForce.mat\")\n",
    "    \n",
    "    HandY = spio.loadmat(\"dataMuscle/HandY.mat\")\n",
    "    HandYVel = spio.loadmat(\"dataMuscle/HandYVel.mat\")\n",
    "    HandYForce = spio.loadmat(\"dataMuscle/HandYForce.mat\")\n",
    "    \n",
    "    Pectoralis = spio.loadmat(\"dataMuscle/Pectoralis.mat\")\n",
    "    Deltoid = spio.loadmat(\"dataMuscle/Deltoid.mat\")\n",
    "    \n",
    "    extracted = spio.loadmat(\"dataMuscle/extracted.mat\")\n",
    "    descriptions = spio.loadmat(\"dataMuscle/descriptions.mat\")\n",
    "    \n",
    "    \n",
    "    \"\"\" \n",
    "    Creation of the first dictionnary - strMuscles\n",
    "    \"\"\"\n",
    "    \n",
    "    dictMuscles = {\"HandX\": HandX[\"HandX\"],\n",
    "                  \"HandXVel\": HandXVel[\"HandXVel\"],\n",
    "                  \"HandXForce\": HandXForce[\"HandXForce\"],\n",
    "                  \"HandY\": HandY[\"HandY\"],\n",
    "                  \"HandYVel\": HandYVel[\"HandYVel\"],\n",
    "                  \"HandYForce\": HandYForce[\"HandYForce\"],\n",
    "                  \"Pectoralis\": Pectoralis[\"Pectoralis\"],\n",
    "                  \"Deltoid\": Deltoid[\"Deltoid\"],\n",
    "                  \"extracted\": extracted[\"extracted\"],\n",
    "                  \"descriptions\": descriptions[\"descriptions\"]}\n",
    "\n",
    "    return dictMuscles"
   ]
  },
  {
   "cell_type": "code",
   "execution_count": 3,
   "metadata": {},
   "outputs": [],
   "source": [
    "def loadNeuron():\n",
    "    \n",
    "    namesSignals= [\n",
    "        ('time'    ),\n",
    "        ('shoang'  ),\n",
    "        ('elbang'  ),\n",
    "        ('handxpos'),\n",
    "        ('handypos'),\n",
    "        ('cells'   )]\n",
    "    \n",
    "    dictNeurons = {}\n",
    "    for targetNum in range(1,9):\n",
    "            \n",
    "        target = {}\n",
    "            \n",
    "        for trialNum in range(1,7):\n",
    "            trial = {}\n",
    "            for nam in namesSignals:\n",
    "                key = nam\n",
    "                value = spio.loadmat('dataNeuron/target'+str(targetNum)+'trial' + str(trialNum) + 'signals'+nam+'.mat')\n",
    "                trial[key]=value['a']\n",
    "                \n",
    "            target['trial'+str(trialNum)] = trial\n",
    "    \n",
    "        dictNeurons['target'+str(targetNum)] = target\n",
    "        \n",
    "    return dictNeurons"
   ]
  },
  {
   "cell_type": "code",
   "execution_count": 4,
   "metadata": {},
   "outputs": [],
   "source": [
    "dictMuscles = loadMuscle()\n",
    "dictNeurons = loadNeuron()"
   ]
  }
 ],
 "metadata": {
  "kernelspec": {
   "display_name": "Python 3",
   "language": "python",
   "name": "python3"
  },
  "language_info": {
   "codemirror_mode": {
    "name": "ipython",
    "version": 3
   },
   "file_extension": ".py",
   "mimetype": "text/x-python",
   "name": "python",
   "nbconvert_exporter": "python",
   "pygments_lexer": "ipython3",
   "version": "3.11.5"
  }
 },
 "nbformat": 4,
 "nbformat_minor": 2
}
